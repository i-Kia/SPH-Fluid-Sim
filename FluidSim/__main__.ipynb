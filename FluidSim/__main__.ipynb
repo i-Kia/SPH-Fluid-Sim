{
 "cells": [
  {
   "cell_type": "markdown",
   "metadata": {},
   "source": [
    "<b> Smoothed Particle Hydrodynamics</b>\n",
    "\n",
    "<p>This is an implementation of the SPH method used to simulate fluid flow that is based off of:</p>"
   ]
  },
  {
   "cell_type": "markdown",
   "metadata": {},
   "source": [
    "<p><i>Euler equation for an ideal fluid</i>, <i>P</i> is pressure and <i>f</i> is additional forces</p>\n",
    "<img src=\"equasion7.png\" alt=\"equasion\">\n",
    "<p>We will calculate <i>P</i> using <i>the polytropic equation</i></p>\n",
    "<img src=\"equasion8.png\" alt=\"equasion\">"
   ]
  },
  {
   "cell_type": "code",
   "execution_count": 84,
   "metadata": {},
   "outputs": [],
   "source": [
    "import numpy as np\n",
    "import matplotlib as mpl\n",
    "\n",
    "np.random.seed(42)            # set the random number generator seed\n",
    "\n",
    "pi = np.pi"
   ]
  },
  {
   "cell_type": "markdown",
   "metadata": {},
   "source": [
    "<b>Kernel Function</b>\n",
    "\n",
    "<p>The SPH methode usess a kernel function (In this case a Gaussian Kernel) to distribute its mass in space we construct the kernel using <i>h</i> as the smoothing lenght</p>\n",
    "\n",
    "<img src=\"equasion1.png\" alt=\"equasion\">"
   ]
  },
  {
   "cell_type": "code",
   "execution_count": 85,
   "metadata": {},
   "outputs": [],
   "source": [
    "def kernal(x, y, z, smooth): # W(r;h) function\n",
    "    # x      = rx = Matrix of all x positions\n",
    "    # y      = ry = Matrix of all y positions\n",
    "    # z      = rz = Matrix of all z positions\n",
    "    # smooth = h  = Smoothing lenght\n",
    "    # w      = w  = Evaluated function\n",
    "    \n",
    "    r = np.sqrt(x**2 + y**2 + z**2) # Calculate the value of ||r||\n",
    "    \n",
    "    w = (1.0 / ( smooth * np.sqrt( pi )))**3 * np.exp( -r**2 / smooth**2) # W function\n",
    "    \n",
    "    return w"
   ]
  },
  {
   "cell_type": "markdown",
   "metadata": {},
   "source": [
    "<b>Kernel Derivative Function</b>\n",
    "\n",
    "<img src=\"equasion2.png\" alt=\"equasion\">"
   ]
  },
  {
   "cell_type": "code",
   "execution_count": 86,
   "metadata": {},
   "outputs": [],
   "source": [
    "def gradientKernal(x, y, z, smooth): # \\7 W(r;h) function\n",
    "    # x        = rx = Matrix of all x positions\n",
    "    # y        = ry = Matrix of all y positions\n",
    "    # z        = rz = Matrix of all z positions\n",
    "    # smooth   = h  = Smoothing lenght\n",
    "    # wx wy wz = w  = Evaluated function (gradient)\n",
    "    \n",
    "    r = np.sqrt(x**2 + y**2 + z**2) # Calculate the value of ||r||\n",
    "    \n",
    "    n = -2 * np.exp( -r**2 / smooth**2) / smooth**5 / pi**(3 / 2)  # \\7 W function\n",
    "    \n",
    "    wx = n * x\n",
    "    wy = n * y\n",
    "    wz = n * z\n",
    "    \n",
    "    return wx, wy, wz"
   ]
  },
  {
   "cell_type": "markdown",
   "metadata": {},
   "source": [
    "<b>Density Function</b>\n",
    "\n",
    "<p>We can use the mass and smoothing kernel to calculate the density at any point. <br>\n",
    "The pairwiseSeparation function is used to calculate r<sub>i</sub> - r<sub>j</sub> faster</p> \n",
    "\n",
    "<img src=\"equasion3.png\" alt=\"equasion\">"
   ]
  },
  {
   "cell_type": "code",
   "execution_count": 87,
   "metadata": {},
   "outputs": [],
   "source": [
    "def pairwiseSeparation(ri, rj): # Separation of two sets of coordinates\n",
    "    # ri         = M by 3 matrix where 3 is the xyz positions and M the amount of particles\n",
    "    # rj         = N by 3 martix where 3 is the xyz positions and N the amount of particles\n",
    "    # dx, dy, dz = M by N matrix of position separations\n",
    "    \n",
    "    M = ri.shape[0] # M = lenght of ri (particles)\n",
    "    N = rj.shape[0] # N = lenght of rj (particles)\n",
    "    \n",
    "    # positions of each ri x,y,z in a 1D matrix, lenght of M (particles)\n",
    "    rix = ri[:,0].reshape((M,1)) # first value (x) reshape => 1D matrix\n",
    "    riy = ri[:,1].reshape((M,1)) # first value (y) reshape => 1D matrix\n",
    "    riz = ri[:,2].reshape((M,1)) # first value (z) reshape => 1D matrix\n",
    "    \n",
    "    # positions of each rj x,y,z in a 1D matrix, lenght of N (particles)\n",
    "    rjx = rj[:,0].reshape((N,1)) # first value (x) reshape => 1D matrix\n",
    "    rjy = rj[:,1].reshape((N,1)) # first value (y) reshape => 1D matrix\n",
    "    rjz = rj[:,2].reshape((N,1)) # first value (z) reshape => 1D matrix\n",
    "    \n",
    "    # matrices that store the separations ri - rj\n",
    "    dx = rix - rjx.T\n",
    "    dy = riy - rjy.T\n",
    "    dz = riz - rjz.T\n",
    "    \n",
    "    return dx, dy, dz"
   ]
  },
  {
   "cell_type": "code",
   "execution_count": 88,
   "metadata": {},
   "outputs": [],
   "source": [
    "def density(r, position, mass, smooth): # Calculate density at a certain position in space\n",
    "    # r        = r   = M by 3 matrix of sampling positions\n",
    "    # position = pos = N by 3 martix of SPH paticle positions\n",
    "    # mass     = m   = Mass of a particle\n",
    "    # smooth   = h   = Smoothing lenght\n",
    "    # denst    = p   = 1D matrix of acceleations\n",
    "    \n",
    "    M = r.shape[0] # Lenght of r (positions)\n",
    "    \n",
    "    dx, dy, dz = pairwiseSeparation(r, position); # ri - rj using the custom function\n",
    "    \n",
    "    denst = np.sum( mass * kernal(dx, dy, dz, smooth), 1 ).reshape((M,1)) # Sum(Sigma) mass and W(ri - j;h)\n",
    "    \n",
    "    return denst"
   ]
  },
  {
   "cell_type": "code",
   "execution_count": null,
   "metadata": {},
   "outputs": [],
   "source": []
  },
  {
   "cell_type": "code",
   "execution_count": 89,
   "metadata": {},
   "outputs": [],
   "source": [
    "def pressure(denst, constant, index):\n",
    "    # denst    = p = Vector of densities\n",
    "    # constant = k = Equation of state(polytropic) constant\n",
    "    # index    = n = Polytropic index\n",
    "    # pressure = P = Pressure\n",
    "    \n",
    "    pressure = constant * denst**(1+1/index)\n",
    "    \n",
    "    return pressure"
   ]
  },
  {
   "cell_type": "markdown",
   "metadata": {},
   "source": [
    "<b>Acceleration Function</b>\n",
    "\n",
    "<p>The acceleration function is the heart of the SPH method. We use the derivation of W function</p>\n",
    "\n",
    "<img src=\"equasion4.png\" alt=\"equasion\">"
   ]
  },
  {
   "cell_type": "code",
   "execution_count": 90,
   "metadata": {},
   "outputs": [],
   "source": [
    "def acceleration(position, velocity, mass, smooth, constant, index, lmdba, visc): # Calculate the acceleration\n",
    "    # position = pos = M by 3 matrix of positions\n",
    "    # velocity = vel = N by 3 martix of velocities\n",
    "    # mass     = m   = Mass of a particle\n",
    "    # smooth   = h   = Smoothing lenght\n",
    "    # constant = k   = Equation of state(polytropic) constant\n",
    "    # index    = n   = Polytropic index\n",
    "    # lmdba    = f   = External force constant\n",
    "    # visc     = nu  = Viscosity of the fluid\n",
    "    # accel    = a   = N by 3 matrix of accelerations\n",
    "    \n",
    "    N = position.shape[0] # Lenght of r (positions)\n",
    "    \n",
    "    denst = density(position, position, mass, smooth) # Get the density\n",
    "    \n",
    "    press = pressure(denst, constant, index) # Get the pressure\n",
    "    \n",
    "    dx, dy, dz = pairwiseSeparation(position, position); # ri - rj using the custom function\n",
    "    dWx, dWy, dWz = gradientKernal(dx, dy, dz, smooth); # gradient using \\7 W(ri-rj;h)   \n",
    "    \n",
    "     # Add Pressure contribution to accelerations (the part in backets)\n",
    "    accelX = - np.sum( mass * ( press / denst**2 + press.T / denst.T**2  ) * dWx, 1).reshape((N,1))\n",
    "    accelY = - np.sum( mass * ( press / denst**2 + press.T / denst.T**2  ) * dWy, 1).reshape((N,1))\n",
    "    accelZ = - np.sum( mass * ( press / denst**2 + press.T / denst.T**2  ) * dWz, 1).reshape((N,1))\n",
    "    \n",
    "    accel = np.hstack((accelX, accelY, accelZ)) # Pack together the acceleration components\n",
    "    \n",
    "    accel += -lmdba * position - visc * velocity # Add external potential force and viscosity using \n",
    "                                                 # Euler equation for an ideal fluid\n",
    "        \n",
    "    return accel"
   ]
  },
  {
   "cell_type": "markdown",
   "metadata": {},
   "source": [
    "<b>Time Integration</b>\n",
    "\n",
    "<p>The positions and velocities are updated using a leap-frog scheme (‘kick-drift-kick’)</p>\n",
    "\n",
    "<img src=\"equasion5.png\" alt=\"equasion\">\n",
    "<img src=\"equasion6.png\" alt=\"equasion\">"
   ]
  },
  {
   "cell_type": "code",
   "execution_count": 91,
   "metadata": {},
   "outputs": [],
   "source": [
    "def main():\n",
    "    ParticleNum = 400    # Number of particles\n",
    "    time        = 0      # current time of the simulation\n",
    "    tEnd        = 12     # time at which simulation ends\n",
    "    dtime       = 0.04   # timestep\n",
    "    Mass        = 2      # overall fluid mass\n",
    "    smooth      = 0.1    # smoothing length\n",
    "    constant    = 0.1    # equation of state constant\n",
    "    index       = 1      # polytropic index\n",
    "    visc        = 1      # damping\n",
    "    \n",
    "    #lmbda = 2*k*(1+n)*np.pi**(-3/(2*n)) * (M*gamma(5/2+n)/R**3/gamma(1+n))**(1/n) / R**2  # ~ 2.01\n",
    "    lmdba = 0\n",
    "\n",
    "    mass = Mass/ParticleNum # single particle mass\n",
    "    position = np.random.randn(ParticleNum, 3) # randomly selected positions and velocities\n",
    "    velocity = np.zeros(position.shape) # Set up velocyties as zero\n",
    "    \n",
    "    accel = acceleration(position, velocity, mass, smooth, constant, index, lmdba, visc )\n",
    "    \n",
    "    timeSteps = int(np.ceil(tEnd/dtime))\n",
    "    \n",
    "    # Main Loop\n",
    "    for t in range(timeSteps):\n",
    "        # (1/2) kick\n",
    "        velocity += accel * dtime/2\n",
    "    \n",
    "        # drift\n",
    "        position += velocity * dtime\n",
    "    \n",
    "        # update accelerations\n",
    "        accel = acceleration(position, velocity, mass, smooth, constant, index, lmdba, visc )\n",
    "    \n",
    "        # (1/2) kick\n",
    "        velocity += accel * dtime/2\n",
    "    \n",
    "        # update time\n",
    "        time += dtime"
   ]
  },
  {
   "cell_type": "code",
   "execution_count": null,
   "metadata": {},
   "outputs": [],
   "source": []
  }
 ],
 "metadata": {
  "kernelspec": {
   "display_name": "Python 3",
   "language": "python",
   "name": "python3"
  },
  "language_info": {
   "codemirror_mode": {
    "name": "ipython",
    "version": 3
   },
   "file_extension": ".py",
   "mimetype": "text/x-python",
   "name": "python",
   "nbconvert_exporter": "python",
   "pygments_lexer": "ipython3",
   "version": "3.8.5"
  }
 },
 "nbformat": 4,
 "nbformat_minor": 4
}
